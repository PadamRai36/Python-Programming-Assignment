{
 "cells": [
  {
   "cell_type": "code",
   "execution_count": 1,
   "metadata": {},
   "outputs": [
    {
     "name": "stdout",
     "output_type": "stream",
     "text": [
      "Enter first number : 54\n",
      "Enter second number :43\n",
      "Enter operation to perform +,-,x,/, ^ :=> /\n",
      "Division is : 1.255813953488372\n"
     ]
    }
   ],
   "source": [
    "'''Task-1:\n",
    " Make a calculator using Python with addition , subtraction , multiplication , division and power'''\n",
    "\n",
    "num1 = int(input(\"Enter first number : \"))\n",
    "num2 = int(input(\"Enter second number :\"))\n",
    "\n",
    "operator = str(input(\"Enter operation to perform +,-,x,/, ^ :=> \"))\n",
    "if (operator == '+'):\n",
    "    print(\"Addition is: \",num1 + num2)\n",
    "elif operator == '-':\n",
    "    print(\"Subtraction is: \",num1 - num2)\n",
    "elif operator == 'x': \n",
    "    print(\"Multiplication is : \",num1 * num2)\n",
    "elif operator == '/':\n",
    "    print(\"Division is :\",num1 / num2)\n",
    "elif operator == '^':\n",
    "    print(\"Power is : \",num1 ** num2)\n",
    "else:\n",
    "    print(\"Invalid Operator\")\n",
    "        "
   ]
  },
  {
   "cell_type": "code",
   "execution_count": 2,
   "metadata": {},
   "outputs": [
    {
     "name": "stdout",
     "output_type": "stream",
     "text": [
      "Padam\n",
      "Haresh\n"
     ]
    },
    {
     "ename": "AttributeError",
     "evalue": "'int' object has no attribute 'isdigit'",
     "output_type": "error",
     "traceback": [
      "\u001b[1;31m---------------------------------------------------------------------------\u001b[0m",
      "\u001b[1;31mAttributeError\u001b[0m                            Traceback (most recent call last)",
      "\u001b[1;32m<ipython-input-2-6cb6e4421765>\u001b[0m in \u001b[0;36m<module>\u001b[1;34m\u001b[0m\n\u001b[0;32m      5\u001b[0m \u001b[1;33m\u001b[0m\u001b[0m\n\u001b[0;32m      6\u001b[0m \u001b[1;32mfor\u001b[0m \u001b[0mi\u001b[0m \u001b[1;32min\u001b[0m \u001b[0mlist_1\u001b[0m\u001b[1;33m:\u001b[0m\u001b[1;33m\u001b[0m\u001b[1;33m\u001b[0m\u001b[0m\n\u001b[1;32m----> 7\u001b[1;33m     \u001b[0mi\u001b[0m\u001b[1;33m.\u001b[0m\u001b[0misdigit\u001b[0m\u001b[1;33m(\u001b[0m\u001b[1;33m)\u001b[0m\u001b[1;33m\u001b[0m\u001b[1;33m\u001b[0m\u001b[0m\n\u001b[0m\u001b[0;32m      8\u001b[0m     \u001b[0mprint\u001b[0m\u001b[1;33m(\u001b[0m\u001b[0mi\u001b[0m\u001b[1;33m)\u001b[0m\u001b[1;33m\u001b[0m\u001b[1;33m\u001b[0m\u001b[0m\n",
      "\u001b[1;31mAttributeError\u001b[0m: 'int' object has no attribute 'isdigit'"
     ]
    }
   ],
   "source": [
    "'''Task-2: \n",
    " Write a program to check if there is any numeric value in list using for loop '''\n",
    "\n",
    "list_1 = ['Padam','Haresh',4,'Nand']\n",
    "\n",
    "for i in list_1:\n",
    "    i.isdigit()\n",
    "    print(i)"
   ]
  },
  {
   "cell_type": "code",
   "execution_count": 3,
   "metadata": {},
   "outputs": [
    {
     "name": "stdout",
     "output_type": "stream",
     "text": [
      "January\n",
      "{'Jan': 'January', 'feb': 'Febuary', 'mar': 'March', 'apr': 'April', 'may': 'May'}\n"
     ]
    }
   ],
   "source": [
    "'''Task-3:\n",
    "Write a Python script to add a key to a dictionary '''\n",
    "month = {\n",
    "    'Jan':'January',\n",
    "    'feb':'Febuary',\n",
    "    'mar':'March',\n",
    "    'apr':'April'\n",
    "}\n",
    "print(month['Jan'])\n",
    "month.update({'may':'May'})\n",
    "print(month)"
   ]
  },
  {
   "cell_type": "code",
   "execution_count": 4,
   "metadata": {},
   "outputs": [
    {
     "name": "stdout",
     "output_type": "stream",
     "text": [
      "141\n"
     ]
    }
   ],
   "source": [
    "'''Task-4: \n",
    "Write a Python program to sum all the numeric items in a dictionary '''\n",
    "\n",
    "sum_dic = {\n",
    "    1: 44,\n",
    "    2: 41,\n",
    "    3: 36,\n",
    "    4: 20\n",
    "}\n",
    "sumall = 0\n",
    "for i in sum_dic:\n",
    "    sumall = sumall + sum_dic[i]\n",
    "print(sumall)"
   ]
  },
  {
   "cell_type": "code",
   "execution_count": 5,
   "metadata": {},
   "outputs": [
    {
     "name": "stdout",
     "output_type": "stream",
     "text": [
      "1 is a duplicate\n",
      "4 is a duplicate\n"
     ]
    }
   ],
   "source": [
    "'''Task - 5:\n",
    " Write a program to identify duplicate values from list '''\n",
    "dip_list = [4, 1, 8, 4, 7, 10, 1]\n",
    "\n",
    "dip_list.sort()\n",
    "for i in range(0,len(dip_list)-1):\n",
    "    if dip_list[i] == dip_list[i+1]:\n",
    "        print (str(dip_list[i]) + ' is a duplicate')"
   ]
  },
  {
   "cell_type": "code",
   "execution_count": 6,
   "metadata": {},
   "outputs": [
    {
     "name": "stdout",
     "output_type": "stream",
     "text": [
      "Enter the key to check: 2\n",
      "Key is already present\n"
     ]
    }
   ],
   "source": [
    "'''Task - 6:\n",
    " Write a Python script to check if a given key already exists in a dictionary'''\n",
    "key_dip = {\n",
    "    1: \"Monday\",\n",
    "    2: \"Tuesday\",\n",
    "    3: \"Wednesday\",\n",
    "    4: \"Thursday\",\n",
    "    5: \"Friday\",\n",
    "    6: \"Saturday\",\n",
    "    7: \"Sunday\"\n",
    "}\n",
    "\n",
    "key = int(input(\"Enter the key to check: \"))\n",
    "if key in key_dip:\n",
    "    print(\"Key is already present\")\n",
    "else:\n",
    "    print(\"Key is not present in the dictionary\")"
   ]
  },
  {
   "cell_type": "code",
   "execution_count": null,
   "metadata": {},
   "outputs": [],
   "source": []
  }
 ],
 "metadata": {
  "kernelspec": {
   "display_name": "Python 3",
   "language": "python",
   "name": "python3"
  },
  "language_info": {
   "codemirror_mode": {
    "name": "ipython",
    "version": 3
   },
   "file_extension": ".py",
   "mimetype": "text/x-python",
   "name": "python",
   "nbconvert_exporter": "python",
   "pygments_lexer": "ipython3",
   "version": "3.7.4"
  }
 },
 "nbformat": 4,
 "nbformat_minor": 2
}
