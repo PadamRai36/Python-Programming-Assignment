{
 "cells": [
  {
   "cell_type": "code",
   "execution_count": 1,
   "metadata": {},
   "outputs": [
    {
     "name": "stdout",
     "output_type": "stream",
     "text": [
      "Twinkle, twinkle, little star,\n",
      "\tHow I wonder what you are!\n",
      "\t\tUp above the world so high,\n",
      "\t\tLike a diamond in the sky.\n",
      "Twinkle, twinkle, little star,\n",
      "\tHow I wonder what you are\n"
     ]
    }
   ],
   "source": [
    "'''Task-1: \n",
    "Twinkle, twinkle, little star,  \n",
    "    How I wonder what you are!    \n",
    "        Up above the world so high,        \n",
    "        Like a diamond in the sky.  \n",
    "Twinkle, twinkle, little star,   \n",
    "    How I wonder what you are\n",
    "'''\n",
    "print(\"Twinkle, twinkle, little star,\\n\\tHow I wonder what you are!\\n\\t\\tUp above the world so high,\\n\\t\\t\"+        \n",
    "\"Like a diamond in the sky.\\nTwinkle, twinkle, little star,\\n\\tHow I wonder what you are\")"
   ]
  },
  {
   "cell_type": "code",
   "execution_count": 2,
   "metadata": {},
   "outputs": [
    {
     "name": "stdout",
     "output_type": "stream",
     "text": [
      "3.7.4 (default, Aug  9 2019, 18:34:13) [MSC v.1915 64 bit (AMD64)]\n"
     ]
    }
   ],
   "source": [
    "'''Task-2:\n",
    "Write a Python program to get the Python version you are using'''\n",
    "import sys\n",
    "print(sys.version)"
   ]
  },
  {
   "cell_type": "code",
   "execution_count": 3,
   "metadata": {},
   "outputs": [
    {
     "name": "stdout",
     "output_type": "stream",
     "text": [
      "Current date and time :\n",
      "2019-11-04 13: 03: 26\n"
     ]
    }
   ],
   "source": [
    "'''Task-3:\n",
    "Write a Python program to display the current date and time.'''\n",
    "import datetime\n",
    "time_now = datetime.datetime.now()\n",
    "print(\"Current date and time :\")\n",
    "print(time_now.strftime(\"%Y-%m-%d %H: %M: %S\"))"
   ]
  },
  {
   "cell_type": "code",
   "execution_count": 4,
   "metadata": {},
   "outputs": [
    {
     "name": "stdout",
     "output_type": "stream",
     "text": [
      "Enter the radius: 7\n",
      "Area of  the circle is :  153.93804002589985\n"
     ]
    }
   ],
   "source": [
    "'''Task-4:\n",
    "Write a Python program which accepts the radius of a circle from the user and compute the area.'''\n",
    "import math\n",
    "radius = int(input(\"Enter the radius: \"))\n",
    "area = math.pi * (radius ** 2)\n",
    "print(\"Area of  the circle is : \", area)"
   ]
  },
  {
   "cell_type": "code",
   "execution_count": 8,
   "metadata": {},
   "outputs": [
    {
     "name": "stdout",
     "output_type": "stream",
     "text": [
      "Enter your first name :Padam\n",
      "Enter your last name :Rai\n",
      "Rai Padam\n",
      "iaR madaP\n"
     ]
    }
   ],
   "source": [
    "'''Task-5:\n",
    "Write a Python program which accepts the user's first and last name and print them in reverse order with a space between them.'''\n",
    "first_name = input(\"Enter your first name :\")\n",
    "last_name = input(\"Enter your last name :\")\n",
    "a,b = last_name, first_name\n",
    "print(a+\" \"+b)\n",
    "print(\"Padam Rai\"[::-1])"
   ]
  },
  {
   "cell_type": "code",
   "execution_count": 1,
   "metadata": {},
   "outputs": [
    {
     "name": "stdout",
     "output_type": "stream",
     "text": [
      "Enter first number :88\n",
      "Enter second  number :12\n",
      "Addition is : 100\n"
     ]
    }
   ],
   "source": [
    "'''Task-6:\n",
    "Write a python program which takes two inputs from user and print them addition'''\n",
    "num_1 = int(input(\"Enter first number :\"))\n",
    "num_2 = int(input(\"Enter second  number :\"))\n",
    "add = num_1 + num_2\n",
    "print(\"Addition is :\",add)"
   ]
  },
  {
   "cell_type": "code",
   "execution_count": null,
   "metadata": {},
   "outputs": [],
   "source": []
  }
 ],
 "metadata": {
  "kernelspec": {
   "display_name": "Python 3",
   "language": "python",
   "name": "python3"
  },
  "language_info": {
   "codemirror_mode": {
    "name": "ipython",
    "version": 3
   },
   "file_extension": ".py",
   "mimetype": "text/x-python",
   "name": "python",
   "nbconvert_exporter": "python",
   "pygments_lexer": "ipython3",
   "version": "3.7.4"
  }
 },
 "nbformat": 4,
 "nbformat_minor": 2
}
