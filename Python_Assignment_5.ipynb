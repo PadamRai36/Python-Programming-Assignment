{
 "cells": [
  {
   "cell_type": "code",
   "execution_count": 1,
   "metadata": {},
   "outputs": [
    {
     "name": "stdout",
     "output_type": "stream",
     "text": [
      "5\n"
     ]
    },
    {
     "data": {
      "text/plain": [
       "120"
      ]
     },
     "execution_count": 1,
     "metadata": {},
     "output_type": "execute_result"
    }
   ],
   "source": [
    "'''\n",
    "Task-1:\n",
    "Write a Python function to calculate the factorial of a number (a non-negative integer).\n",
    "The function accepts the number as an argument.'''\n",
    "def factorial(n):\n",
    "    if n == 0:\n",
    "        return 1\n",
    "    else:\n",
    "        return n * factorial(n-1)\n",
    "\n",
    "n = int(input())\n",
    "factorial(n)"
   ]
  },
  {
   "cell_type": "code",
   "execution_count": 2,
   "metadata": {},
   "outputs": [
    {
     "name": "stdout",
     "output_type": "stream",
     "text": [
      "Not a String\n",
      "Not a String\n",
      "Original String :  Padm Rai Motiani\n",
      "No. of upper case letter is:  3\n",
      "No. of lower cass letter is:  11\n"
     ]
    }
   ],
   "source": [
    "'''Task:2\n",
    "Write a Python function that accepts a string and calculate the number of upper case letters and lower case\n",
    "letters.\n",
    "'''\n",
    "def stringCounter(s):\n",
    "    lower = 0\n",
    "    upper = 0\n",
    "    for c in s:\n",
    "        if c.isupper():\n",
    "            upper += 1\n",
    "        elif c.islower():\n",
    "            lower += 1\n",
    "        else:\n",
    "            print(\"Not a String\")\n",
    "    print(\"Original String : \", s)\n",
    "    print(\"No. of upper case letter is: \", upper)\n",
    "    print(\"No. of lower cass letter is: \", lower)\n",
    "stringCounter(\"Padm Rai Motiani\")"
   ]
  },
  {
   "cell_type": "code",
   "execution_count": 4,
   "metadata": {},
   "outputs": [
    {
     "name": "stdout",
     "output_type": "stream",
     "text": [
      "4\n",
      "8\n",
      "12\n",
      "16\n"
     ]
    }
   ],
   "source": [
    "'''Task-3:\n",
    "Write a Python function to print the even numbers from a given list.\n",
    "'''\n",
    "def evenNumber(a):\n",
    "    for i in myList:\n",
    "        if i % 2 == 0:\n",
    "            print(i)\n",
    "        \n",
    "myList = [3,4,5,7,8,12,16]\n",
    "evenNumber(myList)"
   ]
  },
  {
   "cell_type": "code",
   "execution_count": 5,
   "metadata": {},
   "outputs": [
    {
     "name": "stdout",
     "output_type": "stream",
     "text": [
      "Enter string:madam\n",
      "The string is a palindrome\n"
     ]
    }
   ],
   "source": [
    "'''Task-4:\n",
    "Write a Python function that checks whether a passed string is palindrome or not. Note: A palindrome is a word, \n",
    "phrase, or sequence that reads the same backward as forward, e.g., madam \n",
    "'''\n",
    "\n",
    "def palindrome(s):\n",
    "    if(string==string[::-1]):\n",
    "          print(\"The string is a palindrome\")\n",
    "    else:\n",
    "          print(\"The string isn't a palindrome\")\n",
    "\n",
    "\n",
    "string=input(\"Enter string:\")\n",
    "palindrome(string)"
   ]
  },
  {
   "cell_type": "code",
   "execution_count": 7,
   "metadata": {},
   "outputs": [
    {
     "name": "stdout",
     "output_type": "stream",
     "text": [
      "Enter number: 25\n",
      "Number isn't Prime\n"
     ]
    }
   ],
   "source": [
    "'''Task-5:\n",
    "Write a Python function that takes a number as a parameter and check the number is prime or not.\n",
    "'''\n",
    "def prime(n):\n",
    "    k = 0\n",
    "    for i in range(2, a//2+1):\n",
    "        if i % 2 == 0:\n",
    "            k += 1\n",
    "    if k<=0:\n",
    "        print(\"Number is Prime\")\n",
    "    else:\n",
    "        print(\"Number isn't Prime\")\n",
    "\n",
    "a=int(input(\"Enter number: \"))\n",
    "prime(a)"
   ]
  },
  {
   "cell_type": "code",
   "execution_count": 16,
   "metadata": {},
   "outputs": [
    {
     "ename": "SyntaxError",
     "evalue": "invalid syntax (<ipython-input-16-3936912e2250>, line 11)",
     "output_type": "error",
     "traceback": [
      "\u001b[1;36m  File \u001b[1;32m\"<ipython-input-16-3936912e2250>\"\u001b[1;36m, line \u001b[1;32m11\u001b[0m\n\u001b[1;33m    print(mylist)\u001b[0m\n\u001b[1;37m        ^\u001b[0m\n\u001b[1;31mSyntaxError\u001b[0m\u001b[1;31m:\u001b[0m invalid syntax\n"
     ]
    }
   ],
   "source": [
    "'''Task-6:\n",
    "Suppose a customer is shopping in a market and you need to print all the items which user bought from market. \n",
    "Write a function which accepts the multiple arguments of user shopping list and print all the items which user \n",
    "bought from market\n",
    "'''\n",
    "\n",
    "def shopping(a,b,c):\n",
    "    mylist = []\n",
    "    for i in range(3):\n",
    "        mylist.append(shopping[i]\n",
    "    print(mylist)\n",
    "shopping(\"Mango\",\"Onion\",\"Potato\")"
   ]
  },
  {
   "cell_type": "code",
   "execution_count": null,
   "metadata": {},
   "outputs": [],
   "source": []
  }
 ],
 "metadata": {
  "kernelspec": {
   "display_name": "Python 3",
   "language": "python",
   "name": "python3"
  },
  "language_info": {
   "codemirror_mode": {
    "name": "ipython",
    "version": 3
   },
   "file_extension": ".py",
   "mimetype": "text/x-python",
   "name": "python",
   "nbconvert_exporter": "python",
   "pygments_lexer": "ipython3",
   "version": "3.7.4"
  }
 },
 "nbformat": 4,
 "nbformat_minor": 2
}
